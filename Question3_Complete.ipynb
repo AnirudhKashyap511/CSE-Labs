{
  "cells": [
    {
      "cell_type": "markdown",
      "metadata": {
        "id": "view-in-github",
        "colab_type": "text"
      },
      "source": [
        "<a href=\"https://colab.research.google.com/github/AnirudhKashyap511/CSE-Labs/blob/master/Question3_Complete.ipynb\" target=\"_parent\"><img src=\"https://colab.research.google.com/assets/colab-badge.svg\" alt=\"Open In Colab\"/></a>"
      ]
    },
    {
      "cell_type": "markdown",
      "metadata": {
        "id": "NZVDetBLN5OE"
      },
      "source": [
        "# Setup"
      ]
    },
    {
      "cell_type": "markdown",
      "metadata": {
        "id": "0iBwNBhUeBZY"
      },
      "source": [
        "## Install packages"
      ]
    },
    {
      "cell_type": "code",
      "execution_count": null,
      "metadata": {
        "colab": {
          "base_uri": "https://localhost:8080/"
        },
        "id": "APzfPYuEPrCW",
        "outputId": "bbac4c03-2edd-40e3-f2c2-48e4654a1e0a"
      },
      "outputs": [
        {
          "output_type": "stream",
          "name": "stdout",
          "text": [
            "Looking in indexes: https://pypi.org/simple, https://us-python.pkg.dev/colab-wheels/public/simple/\n",
            "Collecting sentence-transformers\n",
            "  Downloading sentence-transformers-2.2.2.tar.gz (85 kB)\n",
            "\u001b[K     |████████████████████████████████| 85 kB 3.0 MB/s \n",
            "\u001b[?25hCollecting rank_bm25\n",
            "  Downloading rank_bm25-0.2.2-py3-none-any.whl (8.6 kB)\n",
            "Collecting faiss-gpu\n",
            "  Downloading faiss_gpu-1.7.2-cp37-cp37m-manylinux_2_17_x86_64.manylinux2014_x86_64.whl (85.5 MB)\n",
            "\u001b[K     |████████████████████████████████| 85.5 MB 142 kB/s \n",
            "\u001b[?25hCollecting datasets\n",
            "  Downloading datasets-2.6.1-py3-none-any.whl (441 kB)\n",
            "\u001b[K     |████████████████████████████████| 441 kB 86.3 MB/s \n",
            "\u001b[?25hCollecting transformers<5.0.0,>=4.6.0\n",
            "  Downloading transformers-4.24.0-py3-none-any.whl (5.5 MB)\n",
            "\u001b[K     |████████████████████████████████| 5.5 MB 76.0 MB/s \n",
            "\u001b[?25hRequirement already satisfied: tqdm in /usr/local/lib/python3.7/dist-packages (from sentence-transformers) (4.64.1)\n",
            "Requirement already satisfied: torch>=1.6.0 in /usr/local/lib/python3.7/dist-packages (from sentence-transformers) (1.12.1+cu113)\n",
            "Requirement already satisfied: torchvision in /usr/local/lib/python3.7/dist-packages (from sentence-transformers) (0.13.1+cu113)\n",
            "Requirement already satisfied: numpy in /usr/local/lib/python3.7/dist-packages (from sentence-transformers) (1.21.6)\n",
            "Requirement already satisfied: scikit-learn in /usr/local/lib/python3.7/dist-packages (from sentence-transformers) (1.0.2)\n",
            "Requirement already satisfied: scipy in /usr/local/lib/python3.7/dist-packages (from sentence-transformers) (1.7.3)\n",
            "Requirement already satisfied: nltk in /usr/local/lib/python3.7/dist-packages (from sentence-transformers) (3.7)\n",
            "Collecting sentencepiece\n",
            "  Downloading sentencepiece-0.1.97-cp37-cp37m-manylinux_2_17_x86_64.manylinux2014_x86_64.whl (1.3 MB)\n",
            "\u001b[K     |████████████████████████████████| 1.3 MB 83.3 MB/s \n",
            "\u001b[?25hCollecting huggingface-hub>=0.4.0\n",
            "  Downloading huggingface_hub-0.10.1-py3-none-any.whl (163 kB)\n",
            "\u001b[K     |████████████████████████████████| 163 kB 2.4 MB/s \n",
            "\u001b[?25hRequirement already satisfied: typing-extensions>=3.7.4.3 in /usr/local/lib/python3.7/dist-packages (from huggingface-hub>=0.4.0->sentence-transformers) (4.1.1)\n",
            "Requirement already satisfied: packaging>=20.9 in /usr/local/lib/python3.7/dist-packages (from huggingface-hub>=0.4.0->sentence-transformers) (21.3)\n",
            "Requirement already satisfied: requests in /usr/local/lib/python3.7/dist-packages (from huggingface-hub>=0.4.0->sentence-transformers) (2.23.0)\n",
            "Requirement already satisfied: importlib-metadata in /usr/local/lib/python3.7/dist-packages (from huggingface-hub>=0.4.0->sentence-transformers) (4.13.0)\n",
            "Requirement already satisfied: filelock in /usr/local/lib/python3.7/dist-packages (from huggingface-hub>=0.4.0->sentence-transformers) (3.8.0)\n",
            "Requirement already satisfied: pyyaml>=5.1 in /usr/local/lib/python3.7/dist-packages (from huggingface-hub>=0.4.0->sentence-transformers) (6.0)\n",
            "Requirement already satisfied: pyparsing!=3.0.5,>=2.0.2 in /usr/local/lib/python3.7/dist-packages (from packaging>=20.9->huggingface-hub>=0.4.0->sentence-transformers) (3.0.9)\n",
            "Requirement already satisfied: regex!=2019.12.17 in /usr/local/lib/python3.7/dist-packages (from transformers<5.0.0,>=4.6.0->sentence-transformers) (2022.6.2)\n",
            "Collecting tokenizers!=0.11.3,<0.14,>=0.11.1\n",
            "  Downloading tokenizers-0.13.2-cp37-cp37m-manylinux_2_17_x86_64.manylinux2014_x86_64.whl (7.6 MB)\n",
            "\u001b[K     |████████████████████████████████| 7.6 MB 1.9 MB/s \n",
            "\u001b[?25hRequirement already satisfied: pyarrow>=6.0.0 in /usr/local/lib/python3.7/dist-packages (from datasets) (6.0.1)\n",
            "Requirement already satisfied: pandas in /usr/local/lib/python3.7/dist-packages (from datasets) (1.3.5)\n",
            "Requirement already satisfied: fsspec[http]>=2021.11.1 in /usr/local/lib/python3.7/dist-packages (from datasets) (2022.10.0)\n",
            "Collecting dill<0.3.6\n",
            "  Downloading dill-0.3.5.1-py2.py3-none-any.whl (95 kB)\n",
            "\u001b[K     |████████████████████████████████| 95 kB 5.6 MB/s \n",
            "\u001b[?25hCollecting responses<0.19\n",
            "  Downloading responses-0.18.0-py3-none-any.whl (38 kB)\n",
            "Collecting multiprocess\n",
            "  Downloading multiprocess-0.70.14-py37-none-any.whl (115 kB)\n",
            "\u001b[K     |████████████████████████████████| 115 kB 89.8 MB/s \n",
            "\u001b[?25hCollecting xxhash\n",
            "  Downloading xxhash-3.1.0-cp37-cp37m-manylinux_2_17_x86_64.manylinux2014_x86_64.whl (212 kB)\n",
            "\u001b[K     |████████████████████████████████| 212 kB 52.9 MB/s \n",
            "\u001b[?25hRequirement already satisfied: aiohttp in /usr/local/lib/python3.7/dist-packages (from datasets) (3.8.3)\n",
            "Requirement already satisfied: yarl<2.0,>=1.0 in /usr/local/lib/python3.7/dist-packages (from aiohttp->datasets) (1.8.1)\n",
            "Requirement already satisfied: aiosignal>=1.1.2 in /usr/local/lib/python3.7/dist-packages (from aiohttp->datasets) (1.2.0)\n",
            "Requirement already satisfied: attrs>=17.3.0 in /usr/local/lib/python3.7/dist-packages (from aiohttp->datasets) (22.1.0)\n",
            "Requirement already satisfied: multidict<7.0,>=4.5 in /usr/local/lib/python3.7/dist-packages (from aiohttp->datasets) (6.0.2)\n",
            "Requirement already satisfied: asynctest==0.13.0 in /usr/local/lib/python3.7/dist-packages (from aiohttp->datasets) (0.13.0)\n",
            "Requirement already satisfied: async-timeout<5.0,>=4.0.0a3 in /usr/local/lib/python3.7/dist-packages (from aiohttp->datasets) (4.0.2)\n",
            "Requirement already satisfied: charset-normalizer<3.0,>=2.0 in /usr/local/lib/python3.7/dist-packages (from aiohttp->datasets) (2.1.1)\n",
            "Requirement already satisfied: frozenlist>=1.1.1 in /usr/local/lib/python3.7/dist-packages (from aiohttp->datasets) (1.3.1)\n",
            "Requirement already satisfied: certifi>=2017.4.17 in /usr/local/lib/python3.7/dist-packages (from requests->huggingface-hub>=0.4.0->sentence-transformers) (2022.9.24)\n",
            "Requirement already satisfied: chardet<4,>=3.0.2 in /usr/local/lib/python3.7/dist-packages (from requests->huggingface-hub>=0.4.0->sentence-transformers) (3.0.4)\n",
            "Requirement already satisfied: urllib3!=1.25.0,!=1.25.1,<1.26,>=1.21.1 in /usr/local/lib/python3.7/dist-packages (from requests->huggingface-hub>=0.4.0->sentence-transformers) (1.24.3)\n",
            "Requirement already satisfied: idna<3,>=2.5 in /usr/local/lib/python3.7/dist-packages (from requests->huggingface-hub>=0.4.0->sentence-transformers) (2.10)\n",
            "Collecting urllib3!=1.25.0,!=1.25.1,<1.26,>=1.21.1\n",
            "  Downloading urllib3-1.25.11-py2.py3-none-any.whl (127 kB)\n",
            "\u001b[K     |████████████████████████████████| 127 kB 89.6 MB/s \n",
            "\u001b[?25hRequirement already satisfied: zipp>=0.5 in /usr/local/lib/python3.7/dist-packages (from importlib-metadata->huggingface-hub>=0.4.0->sentence-transformers) (3.10.0)\n",
            "Collecting multiprocess\n",
            "  Downloading multiprocess-0.70.13-py37-none-any.whl (115 kB)\n",
            "\u001b[K     |████████████████████████████████| 115 kB 92.7 MB/s \n",
            "\u001b[?25hRequirement already satisfied: click in /usr/local/lib/python3.7/dist-packages (from nltk->sentence-transformers) (7.1.2)\n",
            "Requirement already satisfied: joblib in /usr/local/lib/python3.7/dist-packages (from nltk->sentence-transformers) (1.2.0)\n",
            "Requirement already satisfied: python-dateutil>=2.7.3 in /usr/local/lib/python3.7/dist-packages (from pandas->datasets) (2.8.2)\n",
            "Requirement already satisfied: pytz>=2017.3 in /usr/local/lib/python3.7/dist-packages (from pandas->datasets) (2022.6)\n",
            "Requirement already satisfied: six>=1.5 in /usr/local/lib/python3.7/dist-packages (from python-dateutil>=2.7.3->pandas->datasets) (1.15.0)\n",
            "Requirement already satisfied: threadpoolctl>=2.0.0 in /usr/local/lib/python3.7/dist-packages (from scikit-learn->sentence-transformers) (3.1.0)\n",
            "Requirement already satisfied: pillow!=8.3.*,>=5.3.0 in /usr/local/lib/python3.7/dist-packages (from torchvision->sentence-transformers) (7.1.2)\n",
            "Building wheels for collected packages: sentence-transformers\n",
            "  Building wheel for sentence-transformers (setup.py) ... \u001b[?25l\u001b[?25hdone\n",
            "  Created wheel for sentence-transformers: filename=sentence_transformers-2.2.2-py3-none-any.whl size=125938 sha256=4008468044aef0ccd8fcdfccfa7e9c62db021c36b0865d01deea13435578cb57\n",
            "  Stored in directory: /root/.cache/pip/wheels/bf/06/fb/d59c1e5bd1dac7f6cf61ec0036cc3a10ab8fecaa6b2c3d3ee9\n",
            "Successfully built sentence-transformers\n",
            "Installing collected packages: urllib3, tokenizers, huggingface-hub, dill, xxhash, transformers, sentencepiece, responses, multiprocess, sentence-transformers, rank-bm25, faiss-gpu, datasets\n",
            "  Attempting uninstall: urllib3\n",
            "    Found existing installation: urllib3 1.24.3\n",
            "    Uninstalling urllib3-1.24.3:\n",
            "      Successfully uninstalled urllib3-1.24.3\n",
            "  Attempting uninstall: dill\n",
            "    Found existing installation: dill 0.3.6\n",
            "    Uninstalling dill-0.3.6:\n",
            "      Successfully uninstalled dill-0.3.6\n",
            "Successfully installed datasets-2.6.1 dill-0.3.5.1 faiss-gpu-1.7.2 huggingface-hub-0.10.1 multiprocess-0.70.13 rank-bm25-0.2.2 responses-0.18.0 sentence-transformers-2.2.2 sentencepiece-0.1.97 tokenizers-0.13.2 transformers-4.24.0 urllib3-1.25.11 xxhash-3.1.0\n"
          ]
        }
      ],
      "source": [
        "!pip install -U sentence-transformers rank_bm25 faiss-gpu datasets"
      ]
    },
    {
      "cell_type": "markdown",
      "metadata": {
        "id": "4MG__xXXNw2w"
      },
      "source": [
        "## Mount your Google drive in order to save data"
      ]
    },
    {
      "cell_type": "code",
      "execution_count": null,
      "metadata": {
        "colab": {
          "base_uri": "https://localhost:8080/"
        },
        "id": "v4plNt6AtUlm",
        "outputId": "70e5adcc-1185-4cfd-bd38-95ba54907573"
      },
      "outputs": [
        {
          "output_type": "stream",
          "name": "stdout",
          "text": [
            "Mounted at /content/drive\n"
          ]
        }
      ],
      "source": [
        "from google.colab import drive\n",
        "from pathlib import Path\n",
        "import os\n",
        "drive.mount('/content/drive')\n",
        "\n",
        "\n",
        "\n"
      ]
    },
    {
      "cell_type": "code",
      "execution_count": null,
      "metadata": {
        "id": "6CrhPYF3RX5L"
      },
      "outputs": [],
      "source": [
        "!mkdir -p drive/MyDrive/ai_agents/hw3\n",
        "!mkdir -p drive/MyDrive/ai_agents/hw3/.cache"
      ]
    },
    {
      "cell_type": "code",
      "execution_count": null,
      "metadata": {
        "id": "6-8pvySMS5Ik"
      },
      "outputs": [],
      "source": [
        "os.chdir(\"drive/MyDrive/ai_agents/hw3\")"
      ]
    },
    {
      "cell_type": "markdown",
      "metadata": {
        "id": "B7H6BpZ2N9Bl"
      },
      "source": [
        "## Download a small corpus of Wikipedia articles and split it into snippets\n",
        "\n",
        "We will use a corpus used by the SentenceTransformers author. This cell constructs a list, `passages`, containined `(title, snippet)` tuples."
      ]
    },
    {
      "cell_type": "code",
      "execution_count": null,
      "metadata": {
        "id": "OVJo1mOpNkij"
      },
      "outputs": [],
      "source": [
        "import json\n",
        "import gzip\n",
        "import torch\n",
        "\n",
        "if not torch.cuda.is_available():\n",
        "    print(\"Warning: No GPU found. Please add GPU to your notebook\")\n",
        "\n",
        "\n",
        "wikipedia_filepath = 'simplewiki-2020-11-01.jsonl.gz'\n",
        "\n",
        "if not os.path.exists(wikipedia_filepath):\n",
        "    util.http_get('http://sbert.net/datasets/simplewiki-2020-11-01.jsonl.gz', wikipedia_filepath)\n",
        "\n",
        "\n",
        "passages = []\n",
        "with gzip.open(wikipedia_filepath, 'rt', encoding='utf8') as fIn:\n",
        "    for line in fIn:\n",
        "        data = json.loads(line.strip())\n",
        "        for paragraph in data['paragraphs']:\n",
        "            # We encode the passages as [title, text]\n",
        "            passages.append(dict(title=data['title'], passage=paragraph))"
      ]
    },
    {
      "cell_type": "code",
      "source": [
        "from datasets import Dataset\n",
        "\n",
        "passages = Dataset.from_list(passages)\n",
        "type(passages)"
      ],
      "metadata": {
        "colab": {
          "base_uri": "https://localhost:8080/"
        },
        "id": "QgSgFsa3NkZj",
        "outputId": "1fec088f-032a-4cca-8b60-e79cb5f7dccf"
      },
      "execution_count": null,
      "outputs": [
        {
          "output_type": "execute_result",
          "data": {
            "text/plain": [
              "datasets.arrow_dataset.Dataset"
            ]
          },
          "metadata": {},
          "execution_count": 9
        }
      ]
    },
    {
      "cell_type": "markdown",
      "source": [
        "# Problem 3"
      ],
      "metadata": {
        "id": "JFAt7QqaPkSs"
      }
    },
    {
      "cell_type": "markdown",
      "metadata": {
        "id": "nEOx_j1jjXTa"
      },
      "source": [
        "## **3.1**: Build a BM25 Search Index\n",
        "\n",
        "Construct a search index that, given a query span, returns a top-n list of support passages."
      ]
    },
    {
      "cell_type": "code",
      "execution_count": null,
      "metadata": {
        "id": "norFAq-7jgJ0"
      },
      "outputs": [],
      "source": [
        "from typing import List,Tuple\n",
        "import datasets\n",
        "## Here is a base class that you should use for both sparse and dense retrieval\n",
        "\n",
        "class RetrievalIndex:\n",
        "\n",
        "  def __init__(self, corpus: datasets.arrow_dataset.Dataset):\n",
        "    self.corpus = corpus\n",
        "    self.test_corpus=[]\n",
        "    \n",
        "  def __getitem__(self, item):\n",
        "    return [i for i in self.corpus.select([item])][0]\n",
        "\n",
        "\n",
        "  def preprocess_text(self):\n",
        "    test_corpus=[]\n",
        "    for i in range(self.corpus.num_rows):\n",
        "      test_corpus.append(self.corpus[i][\"title\"]+\"[SEP]\"+self.corpus[i][\"passage\"])\n",
        "    self.test_corpus = test_corpus\n",
        "  @classmethod\n",
        "\n",
        "\n",
        "  def build_index(cls, corpus, **kwargs):\n",
        "    \"\"\"\n",
        "    Class method that constructs a retrieval index from the corpus\n",
        "    \"\"\"\n",
        "    return cls(corpus, **kwargs)\n",
        "\n",
        "  \n",
        "  def lookup(self, query_strs: List[str], topk = 5) -> List[List[Tuple[str, str, float]]]:\n",
        "    \"\"\"\n",
        "    Accepts a list of query strings and returns a list of lists of (title, passage, score) tuples\n",
        "    \"\"\"\n",
        "    raise NotImplementedError()"
      ]
    },
    {
      "cell_type": "code",
      "execution_count": null,
      "metadata": {
        "id": "V34bm-bAkHOn"
      },
      "outputs": [],
      "source": [
        "from rank_bm25 import BM25Okapi\n",
        "import numpy as np\n",
        "class BM25RetrievalIndex(RetrievalIndex):\n",
        "  def __init__(self, corpus):\n",
        "    \"\"\"\n",
        "    tokenize your corpus and initialize your BM25 index. \n",
        "    Follow the simple usage shown on the library's Github page: https://github.com/dorianbrown/rank_bm25\n",
        "    \"\"\"\n",
        "    super().__init__(corpus)\n",
        "\n",
        "    raise NotImplementedError()\n",
        "\n",
        "  def lookup(self, query_strs, topk = 5) -> List[List[Tuple[str, str, float]]]:\n",
        "    \"\"\"\n",
        "    Retrieve document scores from your BM25 index for each of a list of queries.\n",
        "    make sure that each list of returned items is sorted by document score.\n",
        "    \"\"\"\n",
        "    raise NotImplementedError()\n",
        "\n",
        "    \n",
        "\n"
      ]
    },
    {
      "cell_type": "code",
      "execution_count": null,
      "metadata": {
        "id": "LGQrJXi-HLHq"
      },
      "outputs": [],
      "source": [
        "bm25_index = BM25RetrievalIndex.build_index(passages)"
      ]
    },
    {
      "cell_type": "code",
      "execution_count": null,
      "metadata": {
        "id": "vt72regxLY_g"
      },
      "outputs": [],
      "source": [
        "bm25_index.lookup([\"why do birds fly in a v formation?\"])"
      ]
    },
    {
      "cell_type": "markdown",
      "metadata": {
        "id": "Hb4iyN54Mk0s"
      },
      "source": [
        "## **3.2**: Building a Dense Retrieval Index"
      ]
    },
    {
      "cell_type": "code",
      "execution_count": null,
      "metadata": {
        "id": "H9qxaNbpMpPr"
      },
      "outputs": [],
      "source": [
        "import faiss \n",
        "from sentence_transformers import SentenceTransformer, CrossEncoder, util\n",
        "\n",
        "\n",
        "class DenseRetrievalIndex(RetrievalIndex):\n",
        "  def __init__(self, corpus: List[Tuple[str,str]], precomputed_index : str =None):\n",
        "    \"\"\" \n",
        "    compute the embeddings for each passage in the wiki corpus, then feed them \n",
        "    to the `add_faiss_index` builtin function from HuggingFace's Dataset class\n",
        "    https://huggingface.co/docs/datasets/v1.2.1/faiss_and_ea.html\n",
        "\n",
        "    (Optional but recommended) if the filepath argument `precomputed_index` is not None, \n",
        "    then this should not compute the embeddings but rather call load_faiss_index on the path\n",
        "\n",
        "    \"\"\"\n",
        "    if precomputed_index == None:\n",
        "      super().__init__(corpus)\n",
        "      self.new_dataset = None\n",
        "      self.encoder = SentenceTransformer('msmarco-MiniLM-L-6-v3')\n",
        "      self.preprocess_text()\n",
        "      self.embeddings = self.encoder.encode(self.test_corpus,show_progress_bar=True)\n",
        "      passages = []\n",
        "      for i,paragraph in enumerate(self.corpus):\n",
        "        passages.append(dict(title=paragraph['title'],passage=paragraph[\"passage\"],embeddings=self.embeddings[i]))\n",
        "      self.new_dataset = Dataset.from_list(passages)\n",
        "      self.new_dataset.add_faiss_index(column='embeddings')\n",
        "#     self.corpus = corpus.map(lambda x:{\"inputs\": x['title']+\"[SEP]\"+x['passage']})\n",
        "# #   self.corpus = corpus.map(lambda x:{\"inputs\":(x['title'],x['passage'])})\n",
        "#     embeds = self.encoder.encode(self.corpus[\"inputs\"],convert_to_tensor=True, show_progress_bar=True).cuda()\n",
        "  \n",
        "#     self.corpus.add_column(\"embeddings\",embeds)  \n",
        "    \n",
        "    \n",
        "    \n",
        "    #self.corpus = self.corpus.map(lambda x:{\"embeddings\":},batched=True)\n",
        "    # self.corpus.add_faiss_index(column=\"embeddings\")\n",
        "\n",
        "\n",
        "\n",
        "  def save(self, file):\n",
        "    self.new_dataset.save_faiss_index(\"embeddings\",file)\n",
        "    \"\"\"\n",
        "    (Optional but recommended) helper that saves the index to a file using `save_faiss_index` \n",
        "    \"\"\"\n",
        "   # raise NotImplementedError()\n",
        "\n",
        "  def lookup(self, query_strs, topk=5):\n",
        "    results = []\n",
        "    for i in query_strs:\n",
        "      hits = util.semantic_search(self.encoder.encode(query_strs),self.embeddings,score_function = util.dot_score)\n",
        "      results.append(hits[0][:topk])\n",
        "    self.format_output(results[0])\n",
        "    return results[0]\n",
        "\n",
        "  def format_output(self,result):\n",
        "    res = []\n",
        "    for i in result:\n",
        "      res.append(self.corpus[i['corpus_id']])\n",
        "    return res\n",
        "\n",
        "  @classmethod\n",
        "  def from_file(cls, corpus, file):\n",
        "      \"\"\"\n",
        "      (Optional but recommended) helper that loads the index from the specified filepath \n",
        "      \"\"\"\n",
        "      assert os.path.exists(file)\n",
        "      return cls(corpus=corpus, precomputed_index=file)\n"
      ]
    },
    {
      "cell_type": "code",
      "execution_count": null,
      "metadata": {
        "id": "BGwFiduyTJTY",
        "colab": {
          "base_uri": "https://localhost:8080/",
          "height": 81,
          "referenced_widgets": [
            "30dbe29f8067405e9a0d7cd610aab7b0",
            "f67e1cef38444ec19798b301bb449a37",
            "0266910508b84a3ebbdb29a68bf804bd",
            "df562ef9cb7b42fbb0a7d9ed7aca1b64",
            "b4d1f7b11c6940c7846733f5a5e03c3b",
            "f159bb57282b4773ac3ab0bba6c7e0ea",
            "13392a177da9400f88283b26e4a0931a",
            "b78f0751b75445fba02cc20c1b55ea4f",
            "8533e3746fa14667bdbb68fb515feca7",
            "b7fcd2f48dc74082acd0787413c8de6d",
            "7e19547d93474d5095e0ecbc7a5f7a28",
            "00200f4cb13042c8aad2112ab90df572",
            "f99991ed4392482683a02315be27199c",
            "c55711a608424da9a745044b154d1bed",
            "dc6aea0047fc46e8aa1edd45dde06505",
            "29f1e68215eb4bf0853883d94233d53c",
            "15d513e0ee9a4eceb51e97a1d90061a9",
            "1451198bb8d24c6b8cd5e3bd13bf4e53",
            "f633b03962584d8aa0890a212d392bab",
            "900bf5c0acb6489daabbc5c541af94ca",
            "618bcc3cbc9a408080be0634c79cc4d2",
            "8a54b8f1dbb546ba8ee41afcce883e4f"
          ]
        },
        "outputId": "fed583c7-629d-4f8e-9a34-ccdb10837248"
      },
      "outputs": [
        {
          "output_type": "display_data",
          "data": {
            "text/plain": [
              "Batches:   0%|          | 0/15927 [00:00<?, ?it/s]"
            ],
            "application/vnd.jupyter.widget-view+json": {
              "version_major": 2,
              "version_minor": 0,
              "model_id": "30dbe29f8067405e9a0d7cd610aab7b0"
            }
          },
          "metadata": {}
        },
        {
          "output_type": "display_data",
          "data": {
            "text/plain": [
              "  0%|          | 0/510 [00:00<?, ?it/s]"
            ],
            "application/vnd.jupyter.widget-view+json": {
              "version_major": 2,
              "version_minor": 0,
              "model_id": "00200f4cb13042c8aad2112ab90df572"
            }
          },
          "metadata": {}
        }
      ],
      "source": [
        "dense_index = DenseRetrievalIndex.build_index(passages)\n",
        "# dense_index.save(\"msmarco_sbert_final.faiss\")\n",
        "\n",
        "## Uncomment this line and initialize this way if you have already computed and saved the index\n",
        "#dense_index = DenseRetrievalIndex.from_file(passages, 'msmarco_sbert.faiss')"
      ]
    },
    {
      "cell_type": "code",
      "source": [
        "dense_index.save(\"msmarco_sbert_final.faiss\")\n"
      ],
      "metadata": {
        "id": "BkdWK6Y0VPdK"
      },
      "execution_count": null,
      "outputs": []
    },
    {
      "cell_type": "code",
      "execution_count": null,
      "metadata": {
        "id": "fLEaw4vsTNP-",
        "colab": {
          "base_uri": "https://localhost:8080/"
        },
        "outputId": "5d38e960-d0fb-4a48-a843-6cbd4b879d6a"
      },
      "outputs": [
        {
          "output_type": "stream",
          "name": "stdout",
          "text": [
            "[{'title': 'Flock', 'passage': 'Upon leaving beta, Flock has won a number of awards:'}, {'title': 'Bird flu', 'passage': 'Bird flu (also called avian influenza, avian flu, bird influenza, or grippe of the birds), is an illness caused by a virus. The virus, called \"influenza A\" or \"type A\", usually lives in birds, but sometimes infects mammals, including humans. It is called influenza when it infects humans.'}, {'title': 'Bird', 'passage': 'Most birds can fly. They do this by pushing through the air with their wings. The curved surfaces of the wings cause air currents (wind) which lift the bird. Flapping keeps the air current moving to create lift and also moves the bird forward.'}, {'title': 'Air force', 'passage': 'Aircraft in an air force sometimes fly in a formation. Formations are when the aircraft fly in a pattern. Air forces is part of the military.'}, {'title': 'Vulnerable species', 'passage': 'Vulnerable species of birds include:'}]\n"
          ]
        }
      ],
      "source": [
        "answers = dense_index.lookup([\"why do flocks of birds fly in a v formation?\"], topk=5)\n",
        "print(dense_index.format_output(answers))"
      ]
    },
    {
      "cell_type": "code",
      "source": [],
      "metadata": {
        "id": "rdakXoEWF9Nw",
        "outputId": "6fc51382-0c1a-4112-c707-14d7e8e64f37",
        "colab": {
          "base_uri": "https://localhost:8080/",
          "height": 53
        }
      },
      "execution_count": null,
      "outputs": [
        {
          "output_type": "execute_result",
          "data": {
            "text/plain": [
              "'Bird flu (also called avian influenza, avian flu, bird influenza, or grippe of the birds), is an illness caused by a virus. The virus, called \"influenza A\" or \"type A\", usually lives in birds, but sometimes infects mammals, including humans. It is called influenza when it infects humans.'"
            ],
            "application/vnd.google.colaboratory.intrinsic+json": {
              "type": "string"
            }
          },
          "metadata": {},
          "execution_count": 59
        }
      ]
    },
    {
      "cell_type": "markdown",
      "source": [
        "## **3.3** Using a Reranking Cross Encoder"
      ],
      "metadata": {
        "id": "QfEg6UR98Q1m"
      }
    },
    {
      "cell_type": "code",
      "source": [
        "from sentence_transformers import CrossEncoder\n",
        "import numpy as np\n",
        "\n",
        "class RerankingDenseRetrievalIndex(DenseRetrievalIndex):\n",
        "  def __init__(self, *args, **kwargs):\n",
        "    super().__init__(*args, **kwargs)\n",
        "    self.cross_encoder = CrossEncoder(\"cross-encoder/ms-marco-MiniLM-L-6-v2\")\n",
        "\n",
        "  def lookup(self, query_strs, topk=5, initial_topk=50):\n",
        "    \"\"\"\n",
        "    retrieve `initial_topk` candidates as in `DenseRetrievalIndex` class, but \n",
        "    then rerank them according to scores of `self.cross_encoder`\n",
        "    \"\"\"\n",
        "    dense_index.lookup(query_strs,topk=initial_topk)\n",
        "    for query in query_strs:\n",
        "      dense_op = dense_index.format_output(dense_index.lookup(query,topk=40))\n",
        "      print(len(dense_op))\n",
        "      scores = (self.cross_encoder.predict([ (query,i[\"title\"]+\" \"+i[\"passage\"]) for i in dense_op]))\n",
        "      print(scores)\n",
        "      ind = np.argpartition(scores, -topk)[topk:]\n",
        "      ind = ind[ : : -1]\n",
        "      return [dense_op[i] for i in ind[::-1]]\n",
        "  \n",
        "\n",
        "   \n"
      ],
      "metadata": {
        "id": "6Iq0qNfklBKQ"
      },
      "execution_count": null,
      "outputs": []
    },
    {
      "cell_type": "code",
      "source": [
        "## you should not need to recompute the embeddings or index if you implemented the \n",
        "## recommended helper functions\n",
        "ranking_index = RerankingDenseRetrievalIndex.from_file(passages, 'msmarco_sbert_final.faiss')\n",
        "ranking_index.lookup([\"why do flocks of birds fly in a v formation?\"],topk=5)"
      ],
      "metadata": {
        "id": "K24zinl9nlY8",
        "colab": {
          "base_uri": "https://localhost:8080/"
        },
        "outputId": "7660a7cd-b7a5-4b5b-915b-8f8f5a1dd970"
      },
      "execution_count": null,
      "outputs": [
        {
          "output_type": "stream",
          "name": "stdout",
          "text": [
            "10\n",
            "[ -9.955448    -9.862479    -2.3252575   -5.529788   -10.541218\n",
            " -10.869417   -10.516525    -0.22224829  -9.624777    -4.953411  ]\n"
          ]
        },
        {
          "output_type": "execute_result",
          "data": {
            "text/plain": [
              "[{'title': 'Flying squirrel',\n",
              "  'passage': 'There are reasons which may explain why gliding has evolved in mammals:'},\n",
              " {'title': 'Air force',\n",
              "  'passage': 'Aircraft in an air force sometimes fly in a formation. Formations are when the aircraft fly in a pattern. Air forces is part of the military.'},\n",
              " {'title': 'Collective animal behaviour',\n",
              "  'passage': '5. Special factors come into play with migrating birds, or birds which gather in huge flocks, such as starlings. Bird behavior has a larger component of learning than fish. In addition to factors listed above is the possibility that migrating bird flocks are good at teaching first-year birds how to do the migration successfully. The specific routes may be genetically programmed or learned to varying degrees. The routes taken on forward and return migration are often different.'},\n",
              " {'title': 'Bird',\n",
              "  'passage': 'If a flock of birds were flying over a field, they would be calling \"Fly! Fly!\" But a hungry bird, seeing something good to eat down below might start calling \"Food! Food!\" If other birds were also hungry, they would make the same call until more birds were calling \"Food! Food!\" than \"Fly! Fly!\". At this point, the mind of the flock would be changed. Some of the birds would start to yell \"Fly downwards! Fly downwards!\" as they sank from the sky, until the whole flock was all noisily calling the same thing.'},\n",
              " {'title': 'Bird',\n",
              "  'passage': 'Most birds can fly. They do this by pushing through the air with their wings. The curved surfaces of the wings cause air currents (wind) which lift the bird. Flapping keeps the air current moving to create lift and also moves the bird forward.'}]"
            ]
          },
          "metadata": {},
          "execution_count": 88
        }
      ]
    },
    {
      "cell_type": "code",
      "source": [
        "ranking_index.lookup([\"why is the sky blue?\", \"why do flocks of birds fly in a v formation?\"], topk=5)"
      ],
      "metadata": {
        "id": "sOkVwaiHnrYS",
        "colab": {
          "base_uri": "https://localhost:8080/"
        },
        "outputId": "ac55d6fe-b8d0-4823-dc2e-9e0054abf26a"
      },
      "execution_count": null,
      "outputs": [
        {
          "output_type": "stream",
          "name": "stdout",
          "text": [
            "10\n",
            "[  4.652691    -0.60267156   9.079623    -2.9247348    6.4590783\n",
            "   1.6481416   -5.7430983  -10.83732     -5.2103176   -4.330052  ]\n"
          ]
        },
        {
          "output_type": "execute_result",
          "data": {
            "text/plain": [
              "[{'title': 'Blue', 'passage': 'Blue is a color of the Jewish religion.'},\n",
              " {'title': 'Blue',\n",
              "  'passage': 'Blue is one of the colors of the rainbow that people can see. It is one of the seven colors of the rainbow along with red, orange, yellow, green, indigo and violet. Apart from indigo and violet, it has the shortest wavelength of these colors (about 470 nanometers).'},\n",
              " {'title': 'Blue',\n",
              "  'passage': \"Blue is the color of the Earth's sky and sea. Earth looks blue when seen from outer space by astronauts.\"},\n",
              " {'title': 'Sky',\n",
              "  'passage': 'The sky, which is made up of gas molecules, is blue because of the random scattering of sunlight by the molecules. Rayleigh scattering defines the amount of scattering of light rays. Blue light scatters much more than red, which is why the sky appears blue on a clear day. Depending on the time of day, the sky may appear different colors. At dawn or dusk the sky may appear red, orange, or even green and purple depending on how low the sun is and how close it is to night.'},\n",
              " {'title': 'Sky',\n",
              "  'passage': 'The sky is the appearance of the atmosphere around the surface of the planet from our point of view. We see many objects that are actually in space such as the Sun, the Moon, and stars because they are in the sky. On a clear day the sky appears blue. At night it appears. The deepness of the blue increases as we look toward the horizon, and up to the point above us.'}]"
            ]
          },
          "metadata": {},
          "execution_count": 86
        }
      ]
    },
    {
      "cell_type": "markdown",
      "source": [
        "# Problem 4"
      ],
      "metadata": {
        "id": "ErLEBESYhpHR"
      }
    },
    {
      "cell_type": "code",
      "source": [
        "from transformers import AutoTokenizer, AutoModel\n",
        "\n",
        "qar_tokenizer = AutoTokenizer.from_pretrained('yjernite/retribert-base-uncased')\n",
        "qar_model = AutoModel.from_pretrained('yjernite/retribert-base-uncased')\n",
        "\n"
      ],
      "metadata": {
        "id": "yrqchnbUxHhJ"
      },
      "execution_count": null,
      "outputs": []
    },
    {
      "cell_type": "code",
      "source": [
        "# TODO Write an eval loop that retrieves top-1 documents for each ELI5 dev question\n",
        "# then feeds them (concatenated to the question) to the qar_model wrapped in a `pipeline`. "
      ],
      "metadata": {
        "id": "-EDUggbPx2pe"
      },
      "execution_count": null,
      "outputs": []
    },
    {
      "cell_type": "markdown",
      "source": [
        "# Problem 5"
      ],
      "metadata": {
        "id": "Sge2erE-z5Ah"
      }
    },
    {
      "cell_type": "code",
      "source": [
        "## TODO feed your 5 questions from the end of HW1 through the pipeline and perform\n",
        "## qualitative analysis"
      ],
      "metadata": {
        "id": "NALqt9aJ8DgX"
      },
      "execution_count": null,
      "outputs": []
    }
  ],
  "metadata": {
    "colab": {
      "provenance": [],
      "collapsed_sections": [
        "0iBwNBhUeBZY",
        "4MG__xXXNw2w",
        "B7H6BpZ2N9Bl",
        "Hb4iyN54Mk0s"
      ],
      "include_colab_link": true
    },
    "kernelspec": {
      "display_name": "Python 3",
      "name": "python3"
    },
    "language_info": {
      "name": "python"
    },
    "accelerator": "GPU",
    "gpuClass": "premium",
    "widgets": {
      "application/vnd.jupyter.widget-state+json": {
        "30dbe29f8067405e9a0d7cd610aab7b0": {
          "model_module": "@jupyter-widgets/controls",
          "model_name": "HBoxModel",
          "model_module_version": "1.5.0",
          "state": {
            "_dom_classes": [],
            "_model_module": "@jupyter-widgets/controls",
            "_model_module_version": "1.5.0",
            "_model_name": "HBoxModel",
            "_view_count": null,
            "_view_module": "@jupyter-widgets/controls",
            "_view_module_version": "1.5.0",
            "_view_name": "HBoxView",
            "box_style": "",
            "children": [
              "IPY_MODEL_f67e1cef38444ec19798b301bb449a37",
              "IPY_MODEL_0266910508b84a3ebbdb29a68bf804bd",
              "IPY_MODEL_df562ef9cb7b42fbb0a7d9ed7aca1b64"
            ],
            "layout": "IPY_MODEL_b4d1f7b11c6940c7846733f5a5e03c3b"
          }
        },
        "f67e1cef38444ec19798b301bb449a37": {
          "model_module": "@jupyter-widgets/controls",
          "model_name": "HTMLModel",
          "model_module_version": "1.5.0",
          "state": {
            "_dom_classes": [],
            "_model_module": "@jupyter-widgets/controls",
            "_model_module_version": "1.5.0",
            "_model_name": "HTMLModel",
            "_view_count": null,
            "_view_module": "@jupyter-widgets/controls",
            "_view_module_version": "1.5.0",
            "_view_name": "HTMLView",
            "description": "",
            "description_tooltip": null,
            "layout": "IPY_MODEL_f159bb57282b4773ac3ab0bba6c7e0ea",
            "placeholder": "​",
            "style": "IPY_MODEL_13392a177da9400f88283b26e4a0931a",
            "value": "Batches: 100%"
          }
        },
        "0266910508b84a3ebbdb29a68bf804bd": {
          "model_module": "@jupyter-widgets/controls",
          "model_name": "FloatProgressModel",
          "model_module_version": "1.5.0",
          "state": {
            "_dom_classes": [],
            "_model_module": "@jupyter-widgets/controls",
            "_model_module_version": "1.5.0",
            "_model_name": "FloatProgressModel",
            "_view_count": null,
            "_view_module": "@jupyter-widgets/controls",
            "_view_module_version": "1.5.0",
            "_view_name": "ProgressView",
            "bar_style": "success",
            "description": "",
            "description_tooltip": null,
            "layout": "IPY_MODEL_b78f0751b75445fba02cc20c1b55ea4f",
            "max": 15927,
            "min": 0,
            "orientation": "horizontal",
            "style": "IPY_MODEL_8533e3746fa14667bdbb68fb515feca7",
            "value": 15927
          }
        },
        "df562ef9cb7b42fbb0a7d9ed7aca1b64": {
          "model_module": "@jupyter-widgets/controls",
          "model_name": "HTMLModel",
          "model_module_version": "1.5.0",
          "state": {
            "_dom_classes": [],
            "_model_module": "@jupyter-widgets/controls",
            "_model_module_version": "1.5.0",
            "_model_name": "HTMLModel",
            "_view_count": null,
            "_view_module": "@jupyter-widgets/controls",
            "_view_module_version": "1.5.0",
            "_view_name": "HTMLView",
            "description": "",
            "description_tooltip": null,
            "layout": "IPY_MODEL_b7fcd2f48dc74082acd0787413c8de6d",
            "placeholder": "​",
            "style": "IPY_MODEL_7e19547d93474d5095e0ecbc7a5f7a28",
            "value": " 15927/15927 [02:50&lt;00:00, 124.82it/s]"
          }
        },
        "b4d1f7b11c6940c7846733f5a5e03c3b": {
          "model_module": "@jupyter-widgets/base",
          "model_name": "LayoutModel",
          "model_module_version": "1.2.0",
          "state": {
            "_model_module": "@jupyter-widgets/base",
            "_model_module_version": "1.2.0",
            "_model_name": "LayoutModel",
            "_view_count": null,
            "_view_module": "@jupyter-widgets/base",
            "_view_module_version": "1.2.0",
            "_view_name": "LayoutView",
            "align_content": null,
            "align_items": null,
            "align_self": null,
            "border": null,
            "bottom": null,
            "display": null,
            "flex": null,
            "flex_flow": null,
            "grid_area": null,
            "grid_auto_columns": null,
            "grid_auto_flow": null,
            "grid_auto_rows": null,
            "grid_column": null,
            "grid_gap": null,
            "grid_row": null,
            "grid_template_areas": null,
            "grid_template_columns": null,
            "grid_template_rows": null,
            "height": null,
            "justify_content": null,
            "justify_items": null,
            "left": null,
            "margin": null,
            "max_height": null,
            "max_width": null,
            "min_height": null,
            "min_width": null,
            "object_fit": null,
            "object_position": null,
            "order": null,
            "overflow": null,
            "overflow_x": null,
            "overflow_y": null,
            "padding": null,
            "right": null,
            "top": null,
            "visibility": null,
            "width": null
          }
        },
        "f159bb57282b4773ac3ab0bba6c7e0ea": {
          "model_module": "@jupyter-widgets/base",
          "model_name": "LayoutModel",
          "model_module_version": "1.2.0",
          "state": {
            "_model_module": "@jupyter-widgets/base",
            "_model_module_version": "1.2.0",
            "_model_name": "LayoutModel",
            "_view_count": null,
            "_view_module": "@jupyter-widgets/base",
            "_view_module_version": "1.2.0",
            "_view_name": "LayoutView",
            "align_content": null,
            "align_items": null,
            "align_self": null,
            "border": null,
            "bottom": null,
            "display": null,
            "flex": null,
            "flex_flow": null,
            "grid_area": null,
            "grid_auto_columns": null,
            "grid_auto_flow": null,
            "grid_auto_rows": null,
            "grid_column": null,
            "grid_gap": null,
            "grid_row": null,
            "grid_template_areas": null,
            "grid_template_columns": null,
            "grid_template_rows": null,
            "height": null,
            "justify_content": null,
            "justify_items": null,
            "left": null,
            "margin": null,
            "max_height": null,
            "max_width": null,
            "min_height": null,
            "min_width": null,
            "object_fit": null,
            "object_position": null,
            "order": null,
            "overflow": null,
            "overflow_x": null,
            "overflow_y": null,
            "padding": null,
            "right": null,
            "top": null,
            "visibility": null,
            "width": null
          }
        },
        "13392a177da9400f88283b26e4a0931a": {
          "model_module": "@jupyter-widgets/controls",
          "model_name": "DescriptionStyleModel",
          "model_module_version": "1.5.0",
          "state": {
            "_model_module": "@jupyter-widgets/controls",
            "_model_module_version": "1.5.0",
            "_model_name": "DescriptionStyleModel",
            "_view_count": null,
            "_view_module": "@jupyter-widgets/base",
            "_view_module_version": "1.2.0",
            "_view_name": "StyleView",
            "description_width": ""
          }
        },
        "b78f0751b75445fba02cc20c1b55ea4f": {
          "model_module": "@jupyter-widgets/base",
          "model_name": "LayoutModel",
          "model_module_version": "1.2.0",
          "state": {
            "_model_module": "@jupyter-widgets/base",
            "_model_module_version": "1.2.0",
            "_model_name": "LayoutModel",
            "_view_count": null,
            "_view_module": "@jupyter-widgets/base",
            "_view_module_version": "1.2.0",
            "_view_name": "LayoutView",
            "align_content": null,
            "align_items": null,
            "align_self": null,
            "border": null,
            "bottom": null,
            "display": null,
            "flex": null,
            "flex_flow": null,
            "grid_area": null,
            "grid_auto_columns": null,
            "grid_auto_flow": null,
            "grid_auto_rows": null,
            "grid_column": null,
            "grid_gap": null,
            "grid_row": null,
            "grid_template_areas": null,
            "grid_template_columns": null,
            "grid_template_rows": null,
            "height": null,
            "justify_content": null,
            "justify_items": null,
            "left": null,
            "margin": null,
            "max_height": null,
            "max_width": null,
            "min_height": null,
            "min_width": null,
            "object_fit": null,
            "object_position": null,
            "order": null,
            "overflow": null,
            "overflow_x": null,
            "overflow_y": null,
            "padding": null,
            "right": null,
            "top": null,
            "visibility": null,
            "width": null
          }
        },
        "8533e3746fa14667bdbb68fb515feca7": {
          "model_module": "@jupyter-widgets/controls",
          "model_name": "ProgressStyleModel",
          "model_module_version": "1.5.0",
          "state": {
            "_model_module": "@jupyter-widgets/controls",
            "_model_module_version": "1.5.0",
            "_model_name": "ProgressStyleModel",
            "_view_count": null,
            "_view_module": "@jupyter-widgets/base",
            "_view_module_version": "1.2.0",
            "_view_name": "StyleView",
            "bar_color": null,
            "description_width": ""
          }
        },
        "b7fcd2f48dc74082acd0787413c8de6d": {
          "model_module": "@jupyter-widgets/base",
          "model_name": "LayoutModel",
          "model_module_version": "1.2.0",
          "state": {
            "_model_module": "@jupyter-widgets/base",
            "_model_module_version": "1.2.0",
            "_model_name": "LayoutModel",
            "_view_count": null,
            "_view_module": "@jupyter-widgets/base",
            "_view_module_version": "1.2.0",
            "_view_name": "LayoutView",
            "align_content": null,
            "align_items": null,
            "align_self": null,
            "border": null,
            "bottom": null,
            "display": null,
            "flex": null,
            "flex_flow": null,
            "grid_area": null,
            "grid_auto_columns": null,
            "grid_auto_flow": null,
            "grid_auto_rows": null,
            "grid_column": null,
            "grid_gap": null,
            "grid_row": null,
            "grid_template_areas": null,
            "grid_template_columns": null,
            "grid_template_rows": null,
            "height": null,
            "justify_content": null,
            "justify_items": null,
            "left": null,
            "margin": null,
            "max_height": null,
            "max_width": null,
            "min_height": null,
            "min_width": null,
            "object_fit": null,
            "object_position": null,
            "order": null,
            "overflow": null,
            "overflow_x": null,
            "overflow_y": null,
            "padding": null,
            "right": null,
            "top": null,
            "visibility": null,
            "width": null
          }
        },
        "7e19547d93474d5095e0ecbc7a5f7a28": {
          "model_module": "@jupyter-widgets/controls",
          "model_name": "DescriptionStyleModel",
          "model_module_version": "1.5.0",
          "state": {
            "_model_module": "@jupyter-widgets/controls",
            "_model_module_version": "1.5.0",
            "_model_name": "DescriptionStyleModel",
            "_view_count": null,
            "_view_module": "@jupyter-widgets/base",
            "_view_module_version": "1.2.0",
            "_view_name": "StyleView",
            "description_width": ""
          }
        },
        "00200f4cb13042c8aad2112ab90df572": {
          "model_module": "@jupyter-widgets/controls",
          "model_name": "HBoxModel",
          "model_module_version": "1.5.0",
          "state": {
            "_dom_classes": [],
            "_model_module": "@jupyter-widgets/controls",
            "_model_module_version": "1.5.0",
            "_model_name": "HBoxModel",
            "_view_count": null,
            "_view_module": "@jupyter-widgets/controls",
            "_view_module_version": "1.5.0",
            "_view_name": "HBoxView",
            "box_style": "",
            "children": [
              "IPY_MODEL_f99991ed4392482683a02315be27199c",
              "IPY_MODEL_c55711a608424da9a745044b154d1bed",
              "IPY_MODEL_dc6aea0047fc46e8aa1edd45dde06505"
            ],
            "layout": "IPY_MODEL_29f1e68215eb4bf0853883d94233d53c"
          }
        },
        "f99991ed4392482683a02315be27199c": {
          "model_module": "@jupyter-widgets/controls",
          "model_name": "HTMLModel",
          "model_module_version": "1.5.0",
          "state": {
            "_dom_classes": [],
            "_model_module": "@jupyter-widgets/controls",
            "_model_module_version": "1.5.0",
            "_model_name": "HTMLModel",
            "_view_count": null,
            "_view_module": "@jupyter-widgets/controls",
            "_view_module_version": "1.5.0",
            "_view_name": "HTMLView",
            "description": "",
            "description_tooltip": null,
            "layout": "IPY_MODEL_15d513e0ee9a4eceb51e97a1d90061a9",
            "placeholder": "​",
            "style": "IPY_MODEL_1451198bb8d24c6b8cd5e3bd13bf4e53",
            "value": "100%"
          }
        },
        "c55711a608424da9a745044b154d1bed": {
          "model_module": "@jupyter-widgets/controls",
          "model_name": "FloatProgressModel",
          "model_module_version": "1.5.0",
          "state": {
            "_dom_classes": [],
            "_model_module": "@jupyter-widgets/controls",
            "_model_module_version": "1.5.0",
            "_model_name": "FloatProgressModel",
            "_view_count": null,
            "_view_module": "@jupyter-widgets/controls",
            "_view_module_version": "1.5.0",
            "_view_name": "ProgressView",
            "bar_style": "success",
            "description": "",
            "description_tooltip": null,
            "layout": "IPY_MODEL_f633b03962584d8aa0890a212d392bab",
            "max": 510,
            "min": 0,
            "orientation": "horizontal",
            "style": "IPY_MODEL_900bf5c0acb6489daabbc5c541af94ca",
            "value": 510
          }
        },
        "dc6aea0047fc46e8aa1edd45dde06505": {
          "model_module": "@jupyter-widgets/controls",
          "model_name": "HTMLModel",
          "model_module_version": "1.5.0",
          "state": {
            "_dom_classes": [],
            "_model_module": "@jupyter-widgets/controls",
            "_model_module_version": "1.5.0",
            "_model_name": "HTMLModel",
            "_view_count": null,
            "_view_module": "@jupyter-widgets/controls",
            "_view_module_version": "1.5.0",
            "_view_name": "HTMLView",
            "description": "",
            "description_tooltip": null,
            "layout": "IPY_MODEL_618bcc3cbc9a408080be0634c79cc4d2",
            "placeholder": "​",
            "style": "IPY_MODEL_8a54b8f1dbb546ba8ee41afcce883e4f",
            "value": " 510/510 [00:01&lt;00:00, 393.29it/s]"
          }
        },
        "29f1e68215eb4bf0853883d94233d53c": {
          "model_module": "@jupyter-widgets/base",
          "model_name": "LayoutModel",
          "model_module_version": "1.2.0",
          "state": {
            "_model_module": "@jupyter-widgets/base",
            "_model_module_version": "1.2.0",
            "_model_name": "LayoutModel",
            "_view_count": null,
            "_view_module": "@jupyter-widgets/base",
            "_view_module_version": "1.2.0",
            "_view_name": "LayoutView",
            "align_content": null,
            "align_items": null,
            "align_self": null,
            "border": null,
            "bottom": null,
            "display": null,
            "flex": null,
            "flex_flow": null,
            "grid_area": null,
            "grid_auto_columns": null,
            "grid_auto_flow": null,
            "grid_auto_rows": null,
            "grid_column": null,
            "grid_gap": null,
            "grid_row": null,
            "grid_template_areas": null,
            "grid_template_columns": null,
            "grid_template_rows": null,
            "height": null,
            "justify_content": null,
            "justify_items": null,
            "left": null,
            "margin": null,
            "max_height": null,
            "max_width": null,
            "min_height": null,
            "min_width": null,
            "object_fit": null,
            "object_position": null,
            "order": null,
            "overflow": null,
            "overflow_x": null,
            "overflow_y": null,
            "padding": null,
            "right": null,
            "top": null,
            "visibility": null,
            "width": null
          }
        },
        "15d513e0ee9a4eceb51e97a1d90061a9": {
          "model_module": "@jupyter-widgets/base",
          "model_name": "LayoutModel",
          "model_module_version": "1.2.0",
          "state": {
            "_model_module": "@jupyter-widgets/base",
            "_model_module_version": "1.2.0",
            "_model_name": "LayoutModel",
            "_view_count": null,
            "_view_module": "@jupyter-widgets/base",
            "_view_module_version": "1.2.0",
            "_view_name": "LayoutView",
            "align_content": null,
            "align_items": null,
            "align_self": null,
            "border": null,
            "bottom": null,
            "display": null,
            "flex": null,
            "flex_flow": null,
            "grid_area": null,
            "grid_auto_columns": null,
            "grid_auto_flow": null,
            "grid_auto_rows": null,
            "grid_column": null,
            "grid_gap": null,
            "grid_row": null,
            "grid_template_areas": null,
            "grid_template_columns": null,
            "grid_template_rows": null,
            "height": null,
            "justify_content": null,
            "justify_items": null,
            "left": null,
            "margin": null,
            "max_height": null,
            "max_width": null,
            "min_height": null,
            "min_width": null,
            "object_fit": null,
            "object_position": null,
            "order": null,
            "overflow": null,
            "overflow_x": null,
            "overflow_y": null,
            "padding": null,
            "right": null,
            "top": null,
            "visibility": null,
            "width": null
          }
        },
        "1451198bb8d24c6b8cd5e3bd13bf4e53": {
          "model_module": "@jupyter-widgets/controls",
          "model_name": "DescriptionStyleModel",
          "model_module_version": "1.5.0",
          "state": {
            "_model_module": "@jupyter-widgets/controls",
            "_model_module_version": "1.5.0",
            "_model_name": "DescriptionStyleModel",
            "_view_count": null,
            "_view_module": "@jupyter-widgets/base",
            "_view_module_version": "1.2.0",
            "_view_name": "StyleView",
            "description_width": ""
          }
        },
        "f633b03962584d8aa0890a212d392bab": {
          "model_module": "@jupyter-widgets/base",
          "model_name": "LayoutModel",
          "model_module_version": "1.2.0",
          "state": {
            "_model_module": "@jupyter-widgets/base",
            "_model_module_version": "1.2.0",
            "_model_name": "LayoutModel",
            "_view_count": null,
            "_view_module": "@jupyter-widgets/base",
            "_view_module_version": "1.2.0",
            "_view_name": "LayoutView",
            "align_content": null,
            "align_items": null,
            "align_self": null,
            "border": null,
            "bottom": null,
            "display": null,
            "flex": null,
            "flex_flow": null,
            "grid_area": null,
            "grid_auto_columns": null,
            "grid_auto_flow": null,
            "grid_auto_rows": null,
            "grid_column": null,
            "grid_gap": null,
            "grid_row": null,
            "grid_template_areas": null,
            "grid_template_columns": null,
            "grid_template_rows": null,
            "height": null,
            "justify_content": null,
            "justify_items": null,
            "left": null,
            "margin": null,
            "max_height": null,
            "max_width": null,
            "min_height": null,
            "min_width": null,
            "object_fit": null,
            "object_position": null,
            "order": null,
            "overflow": null,
            "overflow_x": null,
            "overflow_y": null,
            "padding": null,
            "right": null,
            "top": null,
            "visibility": null,
            "width": null
          }
        },
        "900bf5c0acb6489daabbc5c541af94ca": {
          "model_module": "@jupyter-widgets/controls",
          "model_name": "ProgressStyleModel",
          "model_module_version": "1.5.0",
          "state": {
            "_model_module": "@jupyter-widgets/controls",
            "_model_module_version": "1.5.0",
            "_model_name": "ProgressStyleModel",
            "_view_count": null,
            "_view_module": "@jupyter-widgets/base",
            "_view_module_version": "1.2.0",
            "_view_name": "StyleView",
            "bar_color": null,
            "description_width": ""
          }
        },
        "618bcc3cbc9a408080be0634c79cc4d2": {
          "model_module": "@jupyter-widgets/base",
          "model_name": "LayoutModel",
          "model_module_version": "1.2.0",
          "state": {
            "_model_module": "@jupyter-widgets/base",
            "_model_module_version": "1.2.0",
            "_model_name": "LayoutModel",
            "_view_count": null,
            "_view_module": "@jupyter-widgets/base",
            "_view_module_version": "1.2.0",
            "_view_name": "LayoutView",
            "align_content": null,
            "align_items": null,
            "align_self": null,
            "border": null,
            "bottom": null,
            "display": null,
            "flex": null,
            "flex_flow": null,
            "grid_area": null,
            "grid_auto_columns": null,
            "grid_auto_flow": null,
            "grid_auto_rows": null,
            "grid_column": null,
            "grid_gap": null,
            "grid_row": null,
            "grid_template_areas": null,
            "grid_template_columns": null,
            "grid_template_rows": null,
            "height": null,
            "justify_content": null,
            "justify_items": null,
            "left": null,
            "margin": null,
            "max_height": null,
            "max_width": null,
            "min_height": null,
            "min_width": null,
            "object_fit": null,
            "object_position": null,
            "order": null,
            "overflow": null,
            "overflow_x": null,
            "overflow_y": null,
            "padding": null,
            "right": null,
            "top": null,
            "visibility": null,
            "width": null
          }
        },
        "8a54b8f1dbb546ba8ee41afcce883e4f": {
          "model_module": "@jupyter-widgets/controls",
          "model_name": "DescriptionStyleModel",
          "model_module_version": "1.5.0",
          "state": {
            "_model_module": "@jupyter-widgets/controls",
            "_model_module_version": "1.5.0",
            "_model_name": "DescriptionStyleModel",
            "_view_count": null,
            "_view_module": "@jupyter-widgets/base",
            "_view_module_version": "1.2.0",
            "_view_name": "StyleView",
            "description_width": ""
          }
        }
      }
    }
  },
  "nbformat": 4,
  "nbformat_minor": 0
}